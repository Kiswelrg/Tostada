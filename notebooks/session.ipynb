{
 "cells": [
  {
   "cell_type": "code",
   "execution_count": 1,
   "metadata": {},
   "outputs": [],
   "source": [
    "from django.http.response import Http404, HttpResponseRedirect\n",
    "from django.urls import reverse\n",
    "from django.shortcuts import render, get_list_or_404, get_object_or_404\n",
    "from django.views.decorators.clickjacking import xframe_options_sameorigin\n",
    "from django.http import HttpResponse\n",
    "\n",
    "import os\n",
    "import sys\n",
    "import django\n",
    "from user.models import User\n",
    "\n",
    "from django.utils import timezone\n",
    "import datetime\n",
    "import json\n",
    "import random\n",
    "import string\n",
    "\n",
    "os.chdir('/home/wxy/prj/Tostada')\n",
    "sys.path.insert(0, os.getenv('PWD'))\n",
    "os.environ.setdefault(\"DJANGO_SETTINGS_MODULE\", \"local_settings.py\")\n",
    "os.environ[\"DJANGO_ALLOW_ASYNC_UNSAFE\"] = \"true\"\n",
    "django.setup()"
   ]
  },
  {
   "cell_type": "code",
   "execution_count": 2,
   "metadata": {},
   "outputs": [],
   "source": [
    "from tool.models import AuthorizationLevel"
   ]
  },
  {
   "cell_type": "code",
   "execution_count": 8,
   "metadata": {},
   "outputs": [
    {
     "data": {
      "text/plain": [
       "[('View Channel',),\n",
       " ('Create Expressions',),\n",
       " ('Create Invite',),\n",
       " ('Change Nickname',),\n",
       " ('Send Messages',),\n",
       " ('Send Messages in Threads',),\n",
       " ('Create Public Threads',),\n",
       " ('Create Private Threads',),\n",
       " ('Embed Links',),\n",
       " ('Attach Files',),\n",
       " ('Add Reactions',),\n",
       " ('Use External Emoji',),\n",
       " ('Use External Stickers',),\n",
       " ('Mention @everyone, @here, and All Roles',),\n",
       " ('Read Message History',),\n",
       " ('Use Application Commands',),\n",
       " ('Send Voice Messages',),\n",
       " ('Connect',),\n",
       " ('Speak',),\n",
       " ('Video',),\n",
       " ('Use Activities',),\n",
       " ('Use Soundboard',),\n",
       " ('Use External Sounds',),\n",
       " ('Use Voice Activity',),\n",
       " ('Set Voice Channel Status',),\n",
       " ('Create Events',)]"
      ]
     },
     "execution_count": 8,
     "metadata": {},
     "output_type": "execute_result"
    }
   ],
   "source": [
    "list(AuthorizationLevel.objects.values_list(\"title\").filter(id__in=[3,6,11,12,17,18,19,20,21,22,23,24,25,26,29,31,32,33,34,35,36,37,38,39,44,45]))"
   ]
  },
  {
   "cell_type": "code",
   "execution_count": null,
   "metadata": {},
   "outputs": [],
   "source": [
    "(User.objects.get()).__class__.__name__"
   ]
  }
 ],
 "metadata": {
  "kernelspec": {
   "display_name": "Tostada",
   "language": "python",
   "name": "web-assist"
  },
  "language_info": {
   "codemirror_mode": {
    "name": "ipython",
    "version": 3
   },
   "file_extension": ".py",
   "mimetype": "text/x-python",
   "name": "python",
   "nbconvert_exporter": "python",
   "pygments_lexer": "ipython3",
   "version": "3.11.7"
  }
 },
 "nbformat": 4,
 "nbformat_minor": 2
}
