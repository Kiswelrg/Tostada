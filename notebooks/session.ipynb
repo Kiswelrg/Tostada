{
 "cells": [
  {
   "cell_type": "code",
   "execution_count": 2,
   "metadata": {},
   "outputs": [],
   "source": [
    "from django.http.response import Http404, HttpResponseRedirect\n",
    "from django.urls import reverse\n",
    "from django.shortcuts import render, get_list_or_404, get_object_or_404\n",
    "from django.views.decorators.clickjacking import xframe_options_sameorigin\n",
    "from django.http import HttpResponse\n",
    "from asgiref.sync import sync_to_async\n",
    "from django.forms.models import model_to_dict\n",
    "\n",
    "import os\n",
    "import django\n",
    "os.environ[\"DJANGO_ALLOW_ASYNC_UNSAFE\"] = \"true\"\n",
    "django.setup()\n",
    "\n",
    "from account.models import AUser\n",
    "from tool.models import UserServerRole, ServerRole, Server, CategoryInServer, ChannelOfChat, ChannelOfVoice, AuthorizationLevel, Channel\n",
    "# from account.models import BUser\n",
    "from message.models import Message, DirectMessage, ChatMessage\n",
    "from attachment.models import MFile\n",
    "\n",
    "\n",
    "from django.contrib.auth.models import User as BUser\n",
    "from django.utils import timezone\n",
    "from django.conf import settings\n",
    "import zoneinfo\n",
    "\n",
    "import sys\n",
    "import datetime\n",
    "import json\n",
    "import random\n",
    "import string\n",
    "import hashlib\n",
    "import base64\n",
    "from django.db import transaction\n",
    "# @sync_to_async\n",
    "# def r():\n",
    "#     pass\n",
    "\n",
    "# await r()"
   ]
  },
  {
   "cell_type": "code",
   "execution_count": 13,
   "metadata": {},
   "outputs": [
    {
     "ename": "NoReverseMatch",
     "evalue": "Reverse for 'msg_attachment' with no arguments not found. 1 pattern(s) tried: ['(?:api/)?attachment/(?P<channel_cid>\\\\d{17,19})/(?P<attachment_cid>\\\\d{17,19})/(?P<attachment_name>[\\\\w\\\\.]{1,256})$']",
     "output_type": "error",
     "traceback": [
      "\u001b[0;31m---------------------------------------------------------------------------\u001b[0m",
      "\u001b[0;31mNoReverseMatch\u001b[0m                            Traceback (most recent call last)",
      "Cell \u001b[0;32mIn[13], line 1\u001b[0m\n\u001b[0;32m----> 1\u001b[0m \u001b[43mreverse\u001b[49m\u001b[43m(\u001b[49m\u001b[38;5;124;43m'\u001b[39;49m\u001b[38;5;124;43mattachment:msg_attachment\u001b[39;49m\u001b[38;5;124;43m'\u001b[39;49m\u001b[43m,\u001b[49m\u001b[43m \u001b[49m\u001b[43mkwargs\u001b[49m\u001b[38;5;241;43m=\u001b[39;49m\u001b[43m{\u001b[49m\u001b[43m}\u001b[49m\u001b[43m)\u001b[49m\n",
      "File \u001b[0;32m~/miniconda3/envs/web/lib/python3.11/site-packages/django/urls/base.py:88\u001b[0m, in \u001b[0;36mreverse\u001b[0;34m(viewname, urlconf, args, kwargs, current_app)\u001b[0m\n\u001b[1;32m     83\u001b[0m     \u001b[38;5;28;01mif\u001b[39;00m ns_pattern:\n\u001b[1;32m     84\u001b[0m         resolver \u001b[38;5;241m=\u001b[39m get_ns_resolver(\n\u001b[1;32m     85\u001b[0m             ns_pattern, resolver, \u001b[38;5;28mtuple\u001b[39m(ns_converters\u001b[38;5;241m.\u001b[39mitems())\n\u001b[1;32m     86\u001b[0m         )\n\u001b[0;32m---> 88\u001b[0m \u001b[38;5;28;01mreturn\u001b[39;00m \u001b[43mresolver\u001b[49m\u001b[38;5;241;43m.\u001b[39;49m\u001b[43m_reverse_with_prefix\u001b[49m\u001b[43m(\u001b[49m\u001b[43mview\u001b[49m\u001b[43m,\u001b[49m\u001b[43m \u001b[49m\u001b[43mprefix\u001b[49m\u001b[43m,\u001b[49m\u001b[43m \u001b[49m\u001b[38;5;241;43m*\u001b[39;49m\u001b[43margs\u001b[49m\u001b[43m,\u001b[49m\u001b[43m \u001b[49m\u001b[38;5;241;43m*\u001b[39;49m\u001b[38;5;241;43m*\u001b[39;49m\u001b[43mkwargs\u001b[49m\u001b[43m)\u001b[49m\n",
      "File \u001b[0;32m~/miniconda3/envs/web/lib/python3.11/site-packages/django/urls/resolvers.py:848\u001b[0m, in \u001b[0;36mURLResolver._reverse_with_prefix\u001b[0;34m(self, lookup_view, _prefix, *args, **kwargs)\u001b[0m\n\u001b[1;32m    843\u001b[0m \u001b[38;5;28;01melse\u001b[39;00m:\n\u001b[1;32m    844\u001b[0m     msg \u001b[38;5;241m=\u001b[39m (\n\u001b[1;32m    845\u001b[0m         \u001b[38;5;124m\"\u001b[39m\u001b[38;5;124mReverse for \u001b[39m\u001b[38;5;124m'\u001b[39m\u001b[38;5;132;01m%(view)s\u001b[39;00m\u001b[38;5;124m'\u001b[39m\u001b[38;5;124m not found. \u001b[39m\u001b[38;5;124m'\u001b[39m\u001b[38;5;132;01m%(view)s\u001b[39;00m\u001b[38;5;124m'\u001b[39m\u001b[38;5;124m is not \u001b[39m\u001b[38;5;124m\"\u001b[39m\n\u001b[1;32m    846\u001b[0m         \u001b[38;5;124m\"\u001b[39m\u001b[38;5;124ma valid view function or pattern name.\u001b[39m\u001b[38;5;124m\"\u001b[39m \u001b[38;5;241m%\u001b[39m {\u001b[38;5;124m\"\u001b[39m\u001b[38;5;124mview\u001b[39m\u001b[38;5;124m\"\u001b[39m: lookup_view_s}\n\u001b[1;32m    847\u001b[0m     )\n\u001b[0;32m--> 848\u001b[0m \u001b[38;5;28;01mraise\u001b[39;00m NoReverseMatch(msg)\n",
      "\u001b[0;31mNoReverseMatch\u001b[0m: Reverse for 'msg_attachment' with no arguments not found. 1 pattern(s) tried: ['(?:api/)?attachment/(?P<channel_cid>\\\\d{17,19})/(?P<attachment_cid>\\\\d{17,19})/(?P<attachment_name>[\\\\w\\\\.]{1,256})$']"
     ]
    }
   ],
   "source": [
    "reverse('attachment:msg_attachment', kwargs={})"
   ]
  },
  {
   "cell_type": "code",
   "execution_count": null,
   "metadata": {},
   "outputs": [],
   "source": []
  },
  {
   "cell_type": "code",
   "execution_count": null,
   "metadata": {},
   "outputs": [],
   "source": [
    "t = timezone.datetime.fromtimestamp(int('66b5c682',16))\n",
    "t = t.astimezone(zoneinfo.ZoneInfo('UTC'))\n",
    "print(t.tzname(), timezone.now().tzname())\n",
    "if t - timezone.now() > 0:\n",
    "    print('True')\n"
   ]
  },
  {
   "cell_type": "code",
   "execution_count": null,
   "metadata": {},
   "outputs": [],
   "source": [
    "t = timezone.datetime.fromtimestamp(int('66b5c682',16))\n",
    "t.astimezone(zoneinfo.ZoneInfo(settings.TIME_ZONE))\n",
    "print(t.timestamp())\n",
    "t = timezone.datetime.fromtimestamp(int('66b5c682',16))\n",
    "t.astimezone(zoneinfo.ZoneInfo('UTC'))\n",
    "print(t.timestamp())"
   ]
  },
  {
   "cell_type": "markdown",
   "metadata": {},
   "source": [
    "### Get model name"
   ]
  },
  {
   "cell_type": "code",
   "execution_count": null,
   "metadata": {},
   "outputs": [],
   "source": [
    "print(\n",
    "    ChannelOfChat.__name__,\n",
    "    ChannelOfChat.objects.all()[0].__class__.__name__\n",
    ")"
   ]
  },
  {
   "cell_type": "markdown",
   "metadata": {},
   "source": [
    "### Construct a intermediate duplicate class"
   ]
  },
  {
   "cell_type": "code",
   "execution_count": null,
   "metadata": {},
   "outputs": [],
   "source": [
    "from django.db.models import Field\n",
    "\n",
    "for a_user in AUser.objects.all():\n",
    "    try:\n",
    "        # Get all field names of BUser model\n",
    "        b_user_fields = set(f.name for f in BUser._meta.get_fields() if isinstance(f, Field))\n",
    "        \n",
    "        # Create a dictionary of field names and values from AUser\n",
    "        # Only include fields that exist in BUser\n",
    "        user_data = {\n",
    "            field: getattr(a_user, field)\n",
    "            for field in a_user.__dict__\n",
    "            if field in b_user_fields and field not in ['id','username']\n",
    "        }\n",
    "        user_data['username'] = a_user.username + '_1'\n",
    "        # Create the BUser object with the filtered data\n",
    "        BUser.objects.create(**user_data)\n",
    "    except ValueError:\n",
    "        pass"
   ]
  },
  {
   "cell_type": "markdown",
   "metadata": {},
   "source": [
    "### Change pk and those who referenc it"
   ]
  },
  {
   "cell_type": "code",
   "execution_count": null,
   "metadata": {},
   "outputs": [],
   "source": [
    "with transaction.atomic():\n",
    "    from project.snowflake import getToolServerSnowflakeID\n",
    "    for c in CategoryInServer.objects.all():\n",
    "        new_uc = getToolServerSnowflakeID()\n",
    "        CategoryInServer.objects.filter(pk=c.pk).update(urlCode=new_uc)\n",
    "        ChannelOfChat.objects.filter(category=c).update(category_id=new_uc)\n",
    "        ChannelOfVoice.objects.filter(category=c).update(category_id=new_uc)\n",
    "        "
   ]
  },
  {
   "cell_type": "code",
   "execution_count": null,
   "metadata": {},
   "outputs": [],
   "source": []
  },
  {
   "cell_type": "code",
   "execution_count": null,
   "metadata": {},
   "outputs": [],
   "source": [
    "def hash_and_compare(cracked_hash):\n",
    "    cracked_chain = cracked_hash.split('$')\n",
    "    # cracked_chain_digest = cracked_chain[0]\n",
    "    cracked_chain_rounds = int(cracked_chain[1])\n",
    "    cracked_chain_salt = cracked_chain[2].encode('utf-8')\n",
    "    cracked_chain_hash_data = cracked_chain[3].split(':')\n",
    "    cracked_chain_hash = base64.b64decode(cracked_chain_hash_data[0].encode('utf-8'))\n",
    "    cracked_chain_data = cracked_chain_hash_data[1]\n",
    "\n",
    "    hash_value = hashlib.pbkdf2_hmac('sha256', cracked_chain_data.encode('utf-8'), cracked_chain_salt, cracked_chain_rounds)\n",
    "    hash_str = base64.b64encode(hash_value).decode('utf-8')\n",
    "    salt_str = base64.b64encode(cracked_chain_salt).decode('utf-8')\n",
    "\n",
    "    print(f'Computed: Hash: {hash_str} Salt: {salt_str}\\nCracked: Hash: {cracked_chain_hash_data[0]} Salt: {cracked_chain[2]}\\n')\n",
    "\n",
    "hash_and_compare('pbkdf2_sha256$10000$005OtPxTXhPq$K/2GplWPJsBVj+qbgdKW8YEteQyUkIiquT5MaOhPo4Y=:harry')\n",
    "hash_and_compare('pbkdf2_sha256$10000$00Qhibr5Mbeg$l9grYueDrl3qN3NA7e9j5PodgV1XkGTz0Z6ajhF99AY=:radio')\n",
    "hash_and_compare('pbkdf2_sha256$10000$00h7h0g1ZKE1$YEobSm/y+cFg/VXhU4gGYJ6eOkZ68jhJ5axDu68Dack=:momo')\n",
    "hash_and_compare('pbkdf2_sha256$10000$01JMkfGk1RXh$vD+GGZshw5kExtZOpl5+Lht3xECULdbNVOesoTicxto=:fred')\n",
    "hash_and_compare('pbkdf2_sha256$10000$01vkw1viCg4J$2hjlbq10Jh/Su3yqjKfYCnCSt1WlKcKJtsqDET618M0=:get')\n",
    "hash_and_compare('pbkdf2_sha256$10000$01wayF5JLVSZ$2/9COWqb6SZG/raqabtU8fNBzkrt2puN7SaKw0U7jBs=:987456321')\n"
   ]
  },
  {
   "cell_type": "code",
   "execution_count": null,
   "metadata": {},
   "outputs": [],
   "source": [
    "\n",
    "hashlib.pbkdf2_hmac('sha256', '...'.encode('utf-8'), '...'.encode('utf-8'), 123456).hex()"
   ]
  },
  {
   "cell_type": "markdown",
   "metadata": {},
   "source": [
    "code"
   ]
  },
  {
   "cell_type": "code",
   "execution_count": null,
   "metadata": {},
   "outputs": [],
   "source": []
  }
 ],
 "metadata": {
  "kernelspec": {
   "display_name": "Tostada",
   "language": "python",
   "name": "web-assist"
  },
  "language_info": {
   "codemirror_mode": {
    "name": "ipython",
    "version": 3
   },
   "file_extension": ".py",
   "mimetype": "text/x-python",
   "name": "python",
   "nbconvert_exporter": "python",
   "pygments_lexer": "ipython3",
   "version": "3.11.7"
  }
 },
 "nbformat": 4,
 "nbformat_minor": 4
}
