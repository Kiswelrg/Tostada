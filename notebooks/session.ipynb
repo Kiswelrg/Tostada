{
 "cells": [
  {
   "cell_type": "code",
   "execution_count": null,
   "metadata": {},
   "outputs": [],
   "source": [
    "from django.http.response import Http404, HttpResponseRedirect\n",
    "from django.urls import reverse\n",
    "from django.shortcuts import render, get_list_or_404, get_object_or_404\n",
    "from django.views.decorators.clickjacking import xframe_options_sameorigin\n",
    "from django.http import HttpResponse\n",
    "from asgiref.sync import sync_to_async\n",
    "from django.forms.models import model_to_dict\n",
    "\n",
    "import os\n",
    "import django\n",
    "os.environ[\"DJANGO_ALLOW_ASYNC_UNSAFE\"] = \"true\"\n",
    "django.setup()\n",
    "\n",
    "from account.models import AUser\n",
    "from tool.models import UserServerRole, ServerRole, Server, CategoryInServer, ChannelOfChat, ChannelOfVoice\n",
    "# from account.models import BUser\n",
    "from django.contrib.auth.models import User as BUser\n",
    "from django.utils import timezone\n",
    "\n",
    "import sys\n",
    "import datetime\n",
    "import json\n",
    "import random\n",
    "import string\n",
    "import hashlib\n",
    "import base64\n",
    "from django.db import transaction\n",
    "# @sync_to_async\n",
    "# def r():\n",
    "#     pass\n",
    "\n",
    "# await r()"
   ]
  },
  {
   "cell_type": "code",
   "execution_count": null,
   "metadata": {},
   "outputs": [],
   "source": [
    "ChannelOfChat.__name__"
   ]
  },
  {
   "cell_type": "code",
   "execution_count": null,
   "metadata": {},
   "outputs": [],
   "source": [
    "GroupMessage.objects.get(pk=1).sender"
   ]
  },
  {
   "cell_type": "code",
   "execution_count": null,
   "metadata": {},
   "outputs": [],
   "source": [
    "from django.db.models import Field\n",
    "\n",
    "for a_user in AUser.objects.all():\n",
    "    try:\n",
    "        # Get all field names of BUser model\n",
    "        b_user_fields = set(f.name for f in BUser._meta.get_fields() if isinstance(f, Field))\n",
    "        \n",
    "        # Create a dictionary of field names and values from AUser\n",
    "        # Only include fields that exist in BUser\n",
    "        user_data = {\n",
    "            field: getattr(a_user, field)\n",
    "            for field in a_user.__dict__\n",
    "            if field in b_user_fields and field not in ['id','username']\n",
    "        }\n",
    "        user_data['username'] = a_user.username + '_1'\n",
    "        # Create the BUser object with the filtered data\n",
    "        BUser.objects.create(**user_data)\n",
    "    except ValueError:\n",
    "        pass"
   ]
  },
  {
   "cell_type": "code",
   "execution_count": null,
   "metadata": {},
   "outputs": [],
   "source": [
    "with transaction.atomic():\n",
    "    from project.snowflake import getToolServerSnowflakeID\n",
    "    for c in CategoryInServer.objects.all():\n",
    "        new_uc = getToolServerSnowflakeID()\n",
    "        CategoryInServer.objects.filter(pk=c.pk).update(urlCode=new_uc)\n",
    "        ChannelOfChat.objects.filter(category=c).update(category_id=new_uc)\n",
    "        ChannelOfVoice.objects.filter(category=c).update(category_id=new_uc)\n",
    "        "
   ]
  },
  {
   "cell_type": "code",
   "execution_count": null,
   "metadata": {},
   "outputs": [],
   "source": [
    "def hash_and_compare(cracked_hash):\n",
    "    cracked_chain = cracked_hash.split('$')\n",
    "    # cracked_chain_digest = cracked_chain[0]\n",
    "    cracked_chain_rounds = int(cracked_chain[1])\n",
    "    cracked_chain_salt = cracked_chain[2].encode('utf-8')\n",
    "    cracked_chain_hash_data = cracked_chain[3].split(':')\n",
    "    cracked_chain_hash = base64.b64decode(cracked_chain_hash_data[0].encode('utf-8'))\n",
    "    cracked_chain_data = cracked_chain_hash_data[1]\n",
    "\n",
    "    hash_value = hashlib.pbkdf2_hmac('sha256', cracked_chain_data.encode('utf-8'), cracked_chain_salt, cracked_chain_rounds)\n",
    "    hash_str = base64.b64encode(hash_value).decode('utf-8')\n",
    "    salt_str = base64.b64encode(cracked_chain_salt).decode('utf-8')\n",
    "\n",
    "    print(f'Computed: Hash: {hash_str} Salt: {salt_str}\\nCracked: Hash: {cracked_chain_hash_data[0]} Salt: {cracked_chain[2]}\\n')\n",
    "\n",
    "hash_and_compare('pbkdf2_sha256$10000$005OtPxTXhPq$K/2GplWPJsBVj+qbgdKW8YEteQyUkIiquT5MaOhPo4Y=:harry')\n",
    "hash_and_compare('pbkdf2_sha256$10000$00Qhibr5Mbeg$l9grYueDrl3qN3NA7e9j5PodgV1XkGTz0Z6ajhF99AY=:radio')\n",
    "hash_and_compare('pbkdf2_sha256$10000$00h7h0g1ZKE1$YEobSm/y+cFg/VXhU4gGYJ6eOkZ68jhJ5axDu68Dack=:momo')\n",
    "hash_and_compare('pbkdf2_sha256$10000$01JMkfGk1RXh$vD+GGZshw5kExtZOpl5+Lht3xECULdbNVOesoTicxto=:fred')\n",
    "hash_and_compare('pbkdf2_sha256$10000$01vkw1viCg4J$2hjlbq10Jh/Su3yqjKfYCnCSt1WlKcKJtsqDET618M0=:get')\n",
    "hash_and_compare('pbkdf2_sha256$10000$01wayF5JLVSZ$2/9COWqb6SZG/raqabtU8fNBzkrt2puN7SaKw0U7jBs=:987456321')\n"
   ]
  },
  {
   "cell_type": "code",
   "execution_count": null,
   "metadata": {},
   "outputs": [],
   "source": [
    "\n",
    "hashlib.pbkdf2_hmac('sha256', '...'.encode('utf-8'), '...'.encode('utf-8'), 123456).hex()"
   ]
  },
  {
   "cell_type": "markdown",
   "metadata": {},
   "source": [
    "code"
   ]
  },
  {
   "cell_type": "code",
   "execution_count": null,
   "metadata": {},
   "outputs": [],
   "source": [
    "(AUser.objects.get()).__class__.__name__"
   ]
  }
 ],
 "metadata": {
  "kernelspec": {
   "display_name": "Tostada",
   "language": "python",
   "name": "web-assist"
  },
  "language_info": {
   "codemirror_mode": {
    "name": "ipython",
    "version": 3
   },
   "file_extension": ".py",
   "mimetype": "text/x-python",
   "name": "python",
   "nbconvert_exporter": "python",
   "pygments_lexer": "ipython3",
   "version": "3.11.7"
  }
 },
 "nbformat": 4,
 "nbformat_minor": 4
}
